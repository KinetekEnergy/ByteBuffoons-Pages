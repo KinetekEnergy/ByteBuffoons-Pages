{
 "cells": [
  {
   "cell_type": "markdown",
   "metadata": {},
   "source": [
    "---\n",
    "toc: true\n",
    "comments: true\n",
    "layout: post\n",
    "title: Review Ticket\n",
    "description: Example Review Ticket!!! This will help us communicate results.\n",
    "type: tangibles\n",
    "courses: { compsci: {week: 1} }\n",
    "---\n",
    "\n",
    "### Summary of Accomplishments\n",
    ">\n",
    "> Update Blog to contain all hacks.  \n",
    "\n",
    "- Reviewed with Pair.  Discuss/Show evidence.\n",
    "- Discuss laptop, cloud computer.\n",
    "- Discuss tools setup and troubles.\n",
    "- Show personal blog / home page.\n",
    "- Show how you are maintaining notes, answering hacks, and showing tangibles.  \n",
    "- How have you learned Markdown, HTML, CSS, JavaScript.\n",
    "- Show Jupyter Notebooks and how you have added and organized them in the blog.\n",
    "- Show evidence of using Slack Account, show app installed on Laptop and/or phone.  Show awared of #annoncements, #general, #coding.\n",
    "- Run make commands to build and test blog locally, before pushing changes to GitHub pages.\n",
    "- Discuss GitHub Account, show ability to push/pull changes from VSCode.\n",
    "- Discuss development on Themes, show how you plan to organized lab notebook.\n"
   ]
  }
 ],
 "metadata": {
  "language_info": {
   "name": "python"
  }
 },
 "nbformat": 4,
 "nbformat_minor": 2
}
