{
 "cells": [
  {
   "cell_type": "markdown",
   "metadata": {},
   "source": [
    "---\n",
    "toc: false\n",
    "comments: false\n",
    "hide: true\n",
    "layout: post\n",
    "type: help\n",
    "title: Tool References\n",
    "---\n",
    "\n",
    "### `Visual Studio Code` [Overview](https://code.visualstudio.com/docs/introvideos/basics)\n",
    "\n",
    "### `Jupyter Notebooks` [Review Jupyter basics 6-min](https://www.youtube.com/watch?v=3jZYC9rGrNg)\n",
    "\n",
    "### `WSL` [Basic Commands](https://learn.microsoft.com/en-us/windows/wsl/basic-commands)\n",
    "\n",
    "### `Linux Commands` [Cheat Sheet](https://www.geeksforgeeks.org/linux-commands-cheat-sheet/)\n",
    "\n",
    "### `Docker` [Docker Overview](https://docs.docker.com/get-started/overview/)\n"
   ]
  }
 ],
 "metadata": {
  "language_info": {
   "name": "python"
  }
 },
 "nbformat": 4,
 "nbformat_minor": 2
}
