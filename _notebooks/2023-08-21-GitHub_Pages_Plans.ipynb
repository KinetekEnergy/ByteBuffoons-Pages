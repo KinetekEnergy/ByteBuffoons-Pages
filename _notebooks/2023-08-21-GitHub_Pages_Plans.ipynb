{
 "cells": [
  {
   "cell_type": "markdown",
   "metadata": {},
   "source": [
    "---\n",
    "toc: true\n",
    "comments: false\n",
    "layout: post\n",
    "title: More Detail Plan\n",
    "description: Example Plan!!! Analyze hacks and plan.\n",
    "type: plans\n",
    "courses: { compsci: {week: 1} }\n",
    "---\n",
    "\n",
    "### PBL Unit 1 / Week 1\n",
    "\n",
    "Learning outcome. Building a personal and running GitHub Pages.\n",
    "\n",
    "- Monday: Schedule Live Review - 4 minutes. Finish Tools setup. Attend Office Hours on HTML, CSS, JS and Student Blog.\n",
    "- Tuesday: Read [Markdown Student Page](https://nighthawkcoders.github.io/teacher//c4.3/c5.0/2023/08/17/markdown-html_fragments.html), Attend Office Hours on Updating Home Page and Plan Page.\n",
    "- Wednesday: Work Plan Page and Home Page.  Prep with pair on live review.\n",
    "- Thursday: 10:45 live review per Canvas.  Read [Linux Shell and Bash](https://nighthawkcoders.github.io/teacher//5.a/c4.1/2023/08/16/linux_shell_IPYNB_2_.html).  Tranfer blog and customize for my lab notebook.\n",
    "\n",
    "### Pair Planning Meeting\n",
    ">\n",
    "> Update Blog to contain all hacks.  Review week with Pair and look ahead and start plan for next week.  Try to be done and learn your machine before Monday EOD.\n",
    "\n",
    "- A laptop, that you bring to class every day with ability to operate Development Tools on it or within the Cloud.\n",
    "- GitHub Account, VSCode will be used to push/pull changes. GitHub is where we store and share code in the cloud, think of Google Docs but for Code.\n",
    "- GitHub Pages will be used to host your personal blog: containing notes, answering hacks, and showing tangibles.  Building pages will teach Markdown, HTML, CSS, JavaScript and more.\n",
    "- Jupyter Notebooks will be used in conjunction with GitHub Pages to build running Code in your blog.\n",
    "- Slack Account, install the App on Laptop and/or phone, get used to reading announcements. Slack is the tool that we will use for messaging, we have been averaging 1000s of essages each year.\n",
    "- VSCode is the code editor we will be using in this class.  VSCode is more than and editor, this type of tool is often called an Interactive Development Environment (IDE).\n",
    "- Run make commands to build and test blog locally, before pushing changes to GitHub pages.\n"
   ]
  }
 ],
 "metadata": {
  "language_info": {
   "name": "python"
  }
 },
 "nbformat": 4,
 "nbformat_minor": 2
}
