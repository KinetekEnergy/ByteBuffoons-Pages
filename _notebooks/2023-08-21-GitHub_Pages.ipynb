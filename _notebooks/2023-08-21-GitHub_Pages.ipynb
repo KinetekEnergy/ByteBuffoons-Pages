{
 "cells": [
  {
   "cell_type": "markdown",
   "metadata": {},
   "source": [
    "---\n",
    "toc: true\n",
    "comments: true\n",
    "layout: post\n",
    "title: GitHub Pages\n",
    "description: Build your first Blog.  This will help us communicate results.\n",
    "type: plans\n",
    "courses: { csse: {week: 1}, csp: {week: 1, categories: [4.A]}, csa: {week: 0} }\n",
    "categories: [C1.4]\n",
    "---\n",
    "\n",
    "### PBL Unit 1 / Week 1\n",
    "\n",
    "Learning outcome. Building a personal and running GitHub Pages.\n",
    "\n",
    "- Monday: Schedule Live Review - 4 minutes. Finish Tools setup. Attend Office Hours on HTML, CSS, JS and Student Blog.\n",
    "- Tuesday: Read [Markdown Student Page](https://nighthawkcoders.github.io/teacher//c4.3/c5.0/2023/08/17/markdown-html_fragments.html), Attend Office Hours on Updating Home Page and Plan Page.\n",
    "- Wednesday: Work Plan Page and Home Page.  Prep with pair on live review.\n",
    "- Thursday: 10:45 live review per Canvas.  Read [Linux Shell and Bash](https://nighthawkcoders.github.io/teacher//5.a/c4.1/2023/08/16/linux_shell_IPYNB_2_.html).  Tranfer blog and customize for my lab notebook.\n",
    "- Update Blog to contain all hacks.  Review week with Pair and look ahead and start plan for next week.\n"
   ]
  }
 ],
 "metadata": {
  "language_info": {
   "name": "python"
  }
 },
 "nbformat": 4,
 "nbformat_minor": 2
}
